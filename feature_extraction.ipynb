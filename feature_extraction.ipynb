{
 "cells": [
  {
   "attachments": {},
   "cell_type": "markdown",
   "metadata": {},
   "source": [
    "#### Melakukan Esktraksi Ciri Citra"
   ]
  },
  {
   "cell_type": "code",
   "execution_count": 15,
   "metadata": {},
   "outputs": [],
   "source": [
    "# Package yang dibutuhkan\n",
    "\n",
    "import numpy as np\n",
    "import pandas as pd\n",
    "from skimage.io import imread, imshow\n",
    "from skimage.color import rgb2hsv\n",
    "from skimage.morphology import binary_erosion, binary_dilation"
   ]
  },
  {
   "cell_type": "code",
   "execution_count": 16,
   "metadata": {},
   "outputs": [],
   "source": [
    "# Dataframe untuk menampung hasil ekstraksi ciri\n",
    "\n",
    "df = pd.DataFrame({'mature': [], 'immature': [], 'rotten': [], 'label': []})"
   ]
  },
  {
   "cell_type": "code",
   "execution_count": 17,
   "metadata": {},
   "outputs": [],
   "source": [
    "# Fungsi untuk pemeriksaan key pada ekstraksi ciri\n",
    "def check_key(dic):\n",
    "    if len(dic.keys()) == 1:\n",
    "        if list(dic.keys())[0] == True:\n",
    "            dic[False] = 0\n",
    "        else:\n",
    "            dic[True] = 0\n",
    "        return dic\n",
    "    return dic"
   ]
  },
  {
   "cell_type": "code",
   "execution_count": 18,
   "metadata": {},
   "outputs": [
    {
     "name": "stdout",
     "output_type": "stream",
     "text": [
      "picture/mature/mature (8).jpg\n",
      "picture/mature/mature (9).jpg\n",
      "picture/mature/mature (10).jpg\n",
      "picture/immature/immature (8).jpg\n",
      "picture/immature/immature (9).jpg\n",
      "picture/immature/immature (10).jpg\n",
      "picture/rotten/rotten (8).jpg\n",
      "picture/rotten/rotten (9).jpg\n",
      "picture/rotten/rotten (10).jpg\n"
     ]
    }
   ],
   "source": [
    "# Melakukan ekstraksi ciri secara otomatis melalui perulangan\n",
    "\n",
    "labels = ['mature', 'immature', 'rotten']\n",
    "\n",
    "for label in labels:\n",
    "\n",
    "    for i in range(7, 10):\n",
    "        \n",
    "        print(f'picture/{label}/{label} ({i + 1}).jpg')\n",
    "        \n",
    "        # Mengambil gambar dari setiap folder\n",
    "        img = imread(f'picture/{label}/{label} ({i + 1}).jpg')\n",
    "        imgHSV = rgb2hsv(img)\n",
    "        \n",
    "        # Membuat mask untuk segmentasi\n",
    "\n",
    "        # Mask seluruh buah\n",
    "        lower_mask = imgHSV[:,:,0] <= 1\n",
    "        upper_mask = imgHSV[:,:,0] >= 0\n",
    "        saturation_mask = imgHSV[:,:,1] > 0.25\n",
    "        all_mask = upper_mask * lower_mask * saturation_mask\n",
    "\n",
    "        # Melakukan operasi morfologi pada mask buah\n",
    "        morf_mask = np.array([[0, 1, 0], [1, 1, 1], [0, 1, 0]])\n",
    "        all_mask = binary_dilation(all_mask, morf_mask)\n",
    "        all_mask = binary_erosion(all_mask, morf_mask)\n",
    "\n",
    "        # Mask matang\n",
    "        # 1\n",
    "        lower_mask = imgHSV[:,:,0] >= 0\n",
    "        upper_mask = imgHSV[:,:,0] < 0.045\n",
    "        saturation_mask = imgHSV[:,:,1] > 0.25\n",
    "        value_mask = imgHSV[:,:,2] <= 1\n",
    "        mature_mask_lower = lower_mask * upper_mask * saturation_mask * value_mask\n",
    "        # 2\n",
    "        lower_mask = imgHSV[:,:,0] > 0.9\n",
    "        upper_mask = imgHSV[:,:,0] <= 1\n",
    "        saturation_mask = imgHSV[:,:,1] > 0.25\n",
    "        mature_mask_upper = lower_mask * upper_mask * saturation_mask\n",
    "        # Final mask\n",
    "        mature_mask = mature_mask_lower + mature_mask_upper\n",
    "\n",
    "        # Mask belum matang\n",
    "        lower_mask = imgHSV[:,:,0] > 0.175\n",
    "        upper_mask = imgHSV[:,:,0] < 0.5\n",
    "        saturation_mask = imgHSV[:,:,1] > 0.5\n",
    "        immature_mask = lower_mask * upper_mask * saturation_mask\n",
    "\n",
    "        # Mask busuk\n",
    "        if label in ['mature', 'rotten']:\n",
    "            rotten_mask = all_mask ^ mature_mask\n",
    "        else:\n",
    "            rotten_mask = all_mask ^ immature_mask\n",
    "\n",
    "        # Ekstraksi ciri\n",
    "        unique, counts = np.unique(all_mask, return_counts=True)\n",
    "        allMaskCount = check_key(dict(zip(unique, counts)))[True]\n",
    "\n",
    "        unique, counts = np.unique(mature_mask, return_counts=True)\n",
    "        matureMaskCount = check_key(dict(zip(unique, counts)))[True]\n",
    "\n",
    "        unique, counts = np.unique(rotten_mask, return_counts=True)\n",
    "        rottenMaskCount = check_key(dict(zip(unique, counts)))[True]\n",
    "\n",
    "        unique, counts = np.unique(immature_mask, return_counts=True)\n",
    "        immatureMaskCount = check_key(dict(zip(unique, counts)))[True]\n",
    "\n",
    "        # Tambahkan hasil ekstraksi data ke dalam dataframe\n",
    "        df.loc[len(df.index)] = [matureMaskCount/allMaskCount, immatureMaskCount/allMaskCount, rottenMaskCount/allMaskCount, label]"
   ]
  },
  {
   "cell_type": "code",
   "execution_count": 19,
   "metadata": {},
   "outputs": [],
   "source": [
    "df.to_csv('feature_test.csv')"
   ]
  }
 ],
 "metadata": {
  "kernelspec": {
   "display_name": "Python 3",
   "language": "python",
   "name": "python3"
  },
  "language_info": {
   "codemirror_mode": {
    "name": "ipython",
    "version": 3
   },
   "file_extension": ".py",
   "mimetype": "text/x-python",
   "name": "python",
   "nbconvert_exporter": "python",
   "pygments_lexer": "ipython3",
   "version": "3.11.1 (tags/v3.11.1:a7a450f, Dec  6 2022, 19:58:39) [MSC v.1934 64 bit (AMD64)]"
  },
  "orig_nbformat": 4,
  "vscode": {
   "interpreter": {
    "hash": "4dcaae44401dddb31a1a2ea33a05a38ec6b22fb2f6ec66968d7b10ee43f6d6e6"
   }
  }
 },
 "nbformat": 4,
 "nbformat_minor": 2
}
